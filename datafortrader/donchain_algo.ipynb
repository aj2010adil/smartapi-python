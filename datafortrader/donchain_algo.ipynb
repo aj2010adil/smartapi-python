def donchian(Data, low, high, where_up, where_down, median, period):
    
    for i in range(len(Data)):
        try:
            Data[i, where_up] = max(Data[i - period:i + 1, 1])
        except ValueError:
            pass
    for i in range(len(Data)):
        try:
            Data[i, where_down] = min(Data[i - period:i + 1, 2]) 
        except ValueError:
            pass        
    for i in range(len(Data)): 
        try:
            Data[i, median] = (Data[i, where_up] + Data[i, where_down]) / 2 
        except ValueError:
            pass
donchian(Data, 2, 1, 4, 5, 6, 20)
'''
plt.plot(Data[-500:, 3], color = 'black')
plt.plot(Data[-500:, 4])
plt.plot(Data[-500:, 5])
plt.plot(Data[-500:, 6])
plt.grid()
'''