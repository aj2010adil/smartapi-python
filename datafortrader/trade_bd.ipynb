{
 "cells": [
  {
   "cell_type": "code",
   "execution_count": null,
   "id": "8f8d782f-482b-44b1-b375-b00ae527355a",
   "metadata": {},
   "outputs": [],
   "source": [
    "#bd\n",
    "def getHistoricalAPI(token,interval= 'ONE_MINUTE'):\n",
    "    to_date= datetime.now()\n",
    "    from_date = to_date - timedelta(days=5)\n",
    "    from_date_format = from_date.strftime(\"%Y-%m-%d %H:%M\")\n",
    "    to_date_format = to_date.strftime(\"%Y-%m-%d %H:%M\")\n",
    "    try:\n",
    "        historicParam={\n",
    "        \"exchange\": \"NSE\",\n",
    "        \"symboltoken\": token,\n",
    "        \"interval\": interval,\n",
    "        \"fromdate\": from_date_format, \n",
    "        \"todate\": to_date_format\n",
    "        }\n",
    "        candel_json  = credentials.SMART_API_OBJ.getCandleData(historicParam)\n",
    "        return calculate_inidcator(candel_json)\n",
    "    except Exception as e:\n",
    "        print(\"Historic Api failed: {}\".format(e.message))\n",
    "        \n",
    "def calculate_bd_inidcator(res_json):\n",
    "    columns = ['timestamp','O','H','L','C','V']\n",
    "    df = pd.DataFrame(res_json['data'], columns=columns)\n",
    "    df['timestamp'] = pd.to_datetime(df['timestamp'],format = '%Y-%m-%dT%H:%M:%S')\n",
    "#     df['EMA'] = EMA(df.C, timeperiod=20)\n",
    "    df['upperband'], df['middleband'], df['lowerband'] = BBANDS(df.C, timeperiod=20, nbdevup=20, nbdevdn=2, matype=0)\n",
    "    df['RSI'] = RSI(df.C, timeperiod=14)\n",
    "    df['ATR'] = ATR(df.H, df.L, df.C, timeperiod=20)\n",
    "    df['CROSS_UP'] = df['CROSS_DOWN'] =df['RSI_UP'] = 0\n",
    "    df = df.round(decimals=2)\n",
    "    \n",
    "    for i in range(20,len(df)):\n",
    "        if ( df['upperband'][i-1]-df['C'][i-1] in range(-0.1,0.1)) and ( df['upperband'][i]-df['C'][i] in range(-0.1,0.1)):\n",
    "            df['CROSS_UP'][i] = 1\n",
    "        if ( df['lowerband'][i-1]-df['C'][i-1] in range(-0.1,0.1)) and ( df['lowerband'][i]-df['C'][i] in range(-0.1,0.1)):\n",
    "            df['CROSS_DOWN'][i] = 1\n",
    "        if df['RSI'][i] > 50 : \n",
    "            df['RSI_UP'][i] = 1 \n",
    "   \n",
    "    print(df.tail(10))\n",
    "    return df\n",
    "\n"
   ]
  }
 ],
 "metadata": {
  "kernelspec": {
   "display_name": "Python 3 (ipykernel)",
   "language": "python",
   "name": "python3"
  },
  "language_info": {
   "codemirror_mode": {
    "name": "ipython",
    "version": 3
   },
   "file_extension": ".py",
   "mimetype": "text/x-python",
   "name": "python",
   "nbconvert_exporter": "python",
   "pygments_lexer": "ipython3",
   "version": "3.9.0"
  }
 },
 "nbformat": 4,
 "nbformat_minor": 5
}
