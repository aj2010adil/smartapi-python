{
 "cells": [
  {
   "cell_type": "code",
   "execution_count": 10,
   "id": "c3a8b5d3-75a9-47b1-9d88-ece9eb799955",
   "metadata": {
    "tags": []
   },
   "outputs": [
    {
     "name": "stdout",
     "output_type": "stream",
     "text": [
      "KAUSHALYA-EQ 15136\n",
      "DCM-EQ 805\n",
      "Code run after 51 sec\n",
      "KAUSHALYA-EQ 15136\n",
      "DCM-EQ 805\n",
      "KAUSHALYA-EQ 15136\n",
      "DCM-EQ 805\n"
     ]
    }
   ],
   "source": [
    "from smartapi import SmartConnect\n",
    "import pandas as pd\n",
    "from datetime import datetime, timedelta\n",
    "import credentials\n",
    "import requests\n",
    "import numpy as np\n",
    "from time import time, sleep\n",
    "from talib.abstract import *\n",
    "import threading\n",
    "import warnings\n",
    "warnings.filterwarnings('ignore')\n",
    "\n",
    "\n",
    "SYMBOL_LIST = ['KAUSHALYA','DCM']\n",
    "TRADED_SYMBOL = []\n",
    "timeFrame = 60 + 5 #5 sec coz dealy repsone of historical API\n",
    "\n",
    "def place_order(token,symbol,qty,buy_sell,ordertype,price,variety= 'NORMAL',exch_seg='NSE',triggerprice=0):\n",
    "    try:\n",
    "        orderparams = {\n",
    "            \"variety\": variety,\n",
    "            \"tradingsymbol\": symbol,\n",
    "            \"symboltoken\": token,\n",
    "            \"transactiontype\": buy_sell,\n",
    "            \"exchange\": exch_seg,\n",
    "            \"ordertype\": ordertype,\n",
    "            \"producttype\": \"DELIVERY\",\n",
    "            \"duration\": \"DAY\",\n",
    "            \"price\": price,\n",
    "            \"squareoff\": \"0\",\n",
    "            \"stoploss\": \"0\",\n",
    "            \"quantity\": qty,\n",
    "            \"triggerprice\":triggerprice\n",
    "            }\n",
    "        orderId=credentials.SMART_API_OBJ.placeOrder(orderparams)\n",
    "        print(\"The order id is: {}\".format(orderId))\n",
    "    except Exception as e:\n",
    "        print(\"Order placement failed: {}\".format(e.message))\n",
    "\n",
    "def intializeSymbolTokenMap():\n",
    "    url = 'https://margincalculator.angelbroking.com/OpenAPI_File/files/OpenAPIScripMaster.json'\n",
    "    d = requests.get(url).json()\n",
    "    global token_df\n",
    "    token_df = pd.DataFrame.from_dict(d)\n",
    "    token_df['expiry'] = pd.to_datetime(token_df['expiry'])\n",
    "    token_df = token_df.astype({'strike': float})\n",
    "    credentials.TOKEN_MAP = token_df\n",
    "\n",
    "def getTokenInfo (symbol, exch_seg ='NSE',instrumenttype='OPTIDX',strike_price = '',pe_ce = 'CE'):\n",
    "    df = credentials.TOKEN_MAP\n",
    "    strike_price = strike_price*100\n",
    "    if exch_seg == 'NSE':\n",
    "        eq_df = df[(df['exch_seg'] == 'NSE') & (df['symbol'].str.contains('EQ')) ]\n",
    "        return eq_df[eq_df['name'] == symbol]\n",
    "#     elif exch_seg == 'NFO' and ((instrumenttype == 'FUTSTK') or (instrumenttype == 'FUTIDX')):\n",
    "#         return df[(df['exch_seg'] == 'NFO') & (df['instrumenttype'] == instrumenttype) & (df['name'] == symbol)].sort_values(by=['expiry'])\n",
    "#     elif exch_seg == 'NFO' and (instrumenttype == 'OPTSTK' or instrumenttype == 'OPTIDX'):\n",
    "#         return df[(df['exch_seg'] == 'NFO') & (df['instrumenttype'] == instrumenttype) & (df['name'] == symbol) & (df['strike'] == strike_price) & (df['symbol'].str.endswith(pe_ce))].sort_values(by=['expiry'])\n",
    "\n",
    "\n",
    "def calculate_inidcator(res_json):\n",
    "    columns = ['timestamp','O','H','L','C','V']\n",
    "    df = pd.DataFrame(res_json['data'], columns=columns)\n",
    "    df['timestamp'] = pd.to_datetime(df['timestamp'],format = '%Y-%m-%dT%H:%M:%S')\n",
    "    df['EMA'] = EMA(df.C, timeperiod=20)\n",
    "    df['RSI'] = RSI(df.C, timeperiod=14)\n",
    "    df['ATR'] = ATR(df.H, df.L, df.C, timeperiod=20)\n",
    "    df['CROSS_UP'] = df['CROSS_DOWN'] =df['RSI_UP'] = 0\n",
    "    df = df.round(decimals=2)\n",
    "    \n",
    "    for i in range(20,len(df)):\n",
    "        if df['C'][i-1]<= df['EMA'][i-1] and df['C'][i] > df['EMA'][i]:\n",
    "            df['CROSS_UP'][i] = 1\n",
    "        if df['C'][i-1] >= df['EMA'][i-1] and df['C'][i] < df['EMA'][i]:\n",
    "            df['CROSS_DOWN'][i] = 1\n",
    "        if df['RSI'][i] > 50 : \n",
    "            df['RSI_UP'][i] = 1 \n",
    "   \n",
    "#     print(df.tail(10))\n",
    "    return df\n",
    "\n",
    "\n",
    "def getHistoricalAPI(token,interval= 'ONE_MINUTE'):\n",
    "    to_date= datetime.now()\n",
    "    from_date = to_date - timedelta(days=5)\n",
    "    from_date_format = from_date.strftime(\"%Y-%m-%d %H:%M\")\n",
    "    to_date_format = to_date.strftime(\"%Y-%m-%d %H:%M\")\n",
    "    try:\n",
    "        historicParam={\n",
    "        \"exchange\": \"NSE\",\n",
    "        \"symboltoken\": token,\n",
    "        \"interval\": interval,\n",
    "        \"fromdate\": from_date_format, \n",
    "        \"todate\": to_date_format\n",
    "        }\n",
    "        candel_json  = credentials.SMART_API_OBJ.getCandleData(historicParam)\n",
    "        return calculate_inidcator(candel_json)\n",
    "    except Exception as e:\n",
    "        print(\"Historic Api failed: {}\".format(e.message))\n",
    "\n",
    "def checkSingnal():\n",
    "    start = time()\n",
    "    global TRADED_SYMBOL\n",
    "    \n",
    "    for symbol in SYMBOL_LIST :\n",
    "        if symbol not in TRADED_SYMBOL:\n",
    "            tokenInfo = getTokenInfo(symbol).iloc[0]\n",
    "            token = tokenInfo['token']\n",
    "            symbol = tokenInfo['symbol']\n",
    "#             print(symbol, token)\n",
    "            candel_df = getHistoricalAPI(token)\n",
    "            if candel_df is not None :\n",
    "                latest_candel = candel_df.iloc[-1]\n",
    "                if latest_candel['CROSS_UP'] == 1 and latest_candel['RSI_UP'] ==1:\n",
    "                   \n",
    "                    ltp = latest_candel['C']\n",
    "                    SL = ltp -  2*latest_candel['ATR']\n",
    "                    target = ltp + 5*latest_candel['ATR']\n",
    "                    qty = 1   #qunatity to trade\n",
    "                    \n",
    "                    res1= place_order(token,symbol,qty,'BUY','MARKET',0) #buy order\n",
    "                    candel_df.tail(10)\n",
    "#                     res2 = place_order(token,symbol,qty,'SELL','STOPLOSS_MARKET',0,variety='STOPLOSS',triggerprice= SL) #SL order\n",
    "#                     res3 = place_order(token,symbol,qty,'SELL','LIMIT',target) #taget order\n",
    "#                     print(res1, res2 , res3)\n",
    "                    print(f'Order Placed for {symbol} LTP={ltp} SL={SL}  TGT={target} QTY={qty} at {datetime.now()}')\n",
    "                    TRADED_SYMBOL.append(symbol)\n",
    "\n",
    "\n",
    "    interval = timeFrame - (time()-start)  \n",
    "#     print(f'interval is {interval} and time now {datetime.now()}')\n",
    "    threading.Timer(interval, checkSingnal).start()\n",
    "\n",
    "\n",
    "\n",
    "if __name__ == '__main__':\n",
    "    intializeSymbolTokenMap()\n",
    "    obj=SmartConnect(api_key=credentials.API_KEY)\n",
    "    data = obj.generateSession(credentials.USER_NAME,credentials.PWD)\n",
    "    credentials.SMART_API_OBJ = obj\n",
    "   \n",
    "    interval = timeFrame - datetime.now().second\n",
    "    print(f\"Code run after {interval} sec\")\n",
    "    sleep(interval)\n",
    "    checkSingnal()\n",
    "\n",
    "   \n"
   ]
  },
  {
   "cell_type": "code",
   "execution_count": 2,
   "id": "27ce59c8-1253-4274-91be-8da75c94e430",
   "metadata": {},
   "outputs": [],
   "source": [
    "url = 'https://margincalculator.angelbroking.com/OpenAPI_File/files/OpenAPIScripMaster.json'\n",
    "d = requests.get(url).json()\n",
    "global token_df"
   ]
  },
  {
   "cell_type": "code",
   "execution_count": 5,
   "id": "19e63a2a-b5c3-4136-8b79-bc8250a49ac6",
   "metadata": {},
   "outputs": [
    {
     "data": {
      "text/plain": [
       "'13287'"
      ]
     },
     "execution_count": 5,
     "metadata": {},
     "output_type": "execute_result"
    }
   ],
   "source": [
    "token_df = pd.DataFrame.from_dict(d)\n",
    "token_df.iloc[0].token\n"
   ]
  },
  {
   "cell_type": "code",
   "execution_count": 8,
   "id": "9b86ead2-dba8-4eb6-82ae-a7fb797c5219",
   "metadata": {
    "collapsed": true,
    "jupyter": {
     "outputs_hidden": true
    },
    "tags": []
   },
   "outputs": [
    {
     "ename": "NameError",
     "evalue": "name 'eq_df' is not defined",
     "output_type": "error",
     "traceback": [
      "\u001b[1;31m---------------------------------------------------------------------------\u001b[0m",
      "\u001b[1;31mNameError\u001b[0m                                 Traceback (most recent call last)",
      "\u001b[1;32m~\\AppData\\Local\\Temp\\1/ipykernel_13208/378635505.py\u001b[0m in \u001b[0;36m<module>\u001b[1;34m\u001b[0m\n\u001b[1;32m----> 1\u001b[1;33m \u001b[0meq_df\u001b[0m\u001b[1;33m[\u001b[0m\u001b[0meq_df\u001b[0m\u001b[1;33m[\u001b[0m\u001b[1;34m'name'\u001b[0m\u001b[1;33m]\u001b[0m \u001b[1;33m==\u001b[0m \u001b[1;34m''\u001b[0m\u001b[1;33m]\u001b[0m\u001b[1;33m\u001b[0m\u001b[1;33m\u001b[0m\u001b[0m\n\u001b[0m",
      "\u001b[1;31mNameError\u001b[0m: name 'eq_df' is not defined"
     ]
    }
   ],
   "source": [
    "eq_df[eq_df['name'] == '']"
   ]
  },
  {
   "cell_type": "code",
   "execution_count": 10,
   "id": "1d37aa3f-66cb-4d40-aeb5-7ebb32ad2799",
   "metadata": {
    "jupyter": {
     "source_hidden": true
    },
    "tags": []
   },
   "outputs": [],
   "source": [
    "df = credentials.TOKEN_MAP\n",
    "eq_df = df[(df['exch_seg'] == 'NSE') & (df['symbol'].str.contains('EQ')) ]"
   ]
  },
  {
   "cell_type": "code",
   "execution_count": 12,
   "id": "2236a243-2272-4bbf-9ba2-2493df32be27",
   "metadata": {},
   "outputs": [
    {
     "data": {
      "text/html": [
       "<div>\n",
       "<style scoped>\n",
       "    .dataframe tbody tr th:only-of-type {\n",
       "        vertical-align: middle;\n",
       "    }\n",
       "\n",
       "    .dataframe tbody tr th {\n",
       "        vertical-align: top;\n",
       "    }\n",
       "\n",
       "    .dataframe thead th {\n",
       "        text-align: right;\n",
       "    }\n",
       "</style>\n",
       "<table border=\"1\" class=\"dataframe\">\n",
       "  <thead>\n",
       "    <tr style=\"text-align: right;\">\n",
       "      <th></th>\n",
       "      <th>token</th>\n",
       "      <th>symbol</th>\n",
       "      <th>name</th>\n",
       "      <th>expiry</th>\n",
       "      <th>strike</th>\n",
       "      <th>lotsize</th>\n",
       "      <th>instrumenttype</th>\n",
       "      <th>exch_seg</th>\n",
       "      <th>tick_size</th>\n",
       "    </tr>\n",
       "  </thead>\n",
       "  <tbody>\n",
       "    <tr>\n",
       "      <th>3241</th>\n",
       "      <td>220</td>\n",
       "      <td>IEX-EQ</td>\n",
       "      <td>IEX</td>\n",
       "      <td>NaT</td>\n",
       "      <td>-1.0</td>\n",
       "      <td>1</td>\n",
       "      <td></td>\n",
       "      <td>NSE</td>\n",
       "      <td>5.000000</td>\n",
       "    </tr>\n",
       "  </tbody>\n",
       "</table>\n",
       "</div>"
      ],
      "text/plain": [
       "     token  symbol name expiry  strike lotsize instrumenttype exch_seg  \\\n",
       "3241   220  IEX-EQ  IEX    NaT    -1.0       1                     NSE   \n",
       "\n",
       "     tick_size  \n",
       "3241  5.000000  "
      ]
     },
     "execution_count": 12,
     "metadata": {},
     "output_type": "execute_result"
    }
   ],
   "source": [
    "eq_df[eq_df['name'] == 'IEX']"
   ]
  },
  {
   "cell_type": "code",
   "execution_count": 16,
   "id": "cf4b4a92-c3d1-4746-80c0-a4b0daa8289b",
   "metadata": {},
   "outputs": [
    {
     "name": "stdout",
     "output_type": "stream",
     "text": [
      "IEX-EQ 220\n"
     ]
    },
    {
     "name": "stderr",
     "output_type": "stream",
     "text": [
      "Exception in thread Thread-247:\n",
      "Traceback (most recent call last):\n",
      "  File \"D:\\Users\\W7146644\\AppData\\Local\\Temp\\1/ipykernel_13208/655192257.py\", line 97, in getHistoricalAPI\n",
      "  File \"D:\\Users\\W7146644\\AppData\\Local\\Temp\\1/ipykernel_13208/655192257.py\", line 63, in calculate_inidcator\n",
      "  File \"D:\\Users\\W7146644\\AppData\\Local\\Programs\\Python\\Python39\\lib\\site-packages\\pandas\\core\\frame.py\", line 730, in __init__\n",
      "    raise ValueError(\"DataFrame constructor not properly called!\")\n",
      "ValueError: DataFrame constructor not properly called!\n",
      "\n",
      "During handling of the above exception, another exception occurred:\n",
      "\n",
      "Traceback (most recent call last):\n",
      "  File \"D:\\Users\\W7146644\\AppData\\Local\\Programs\\Python\\Python39\\lib\\threading.py\", line 950, in _bootstrap_inner\n",
      "    self.run()\n",
      "  File \"D:\\Users\\W7146644\\AppData\\Local\\Programs\\Python\\Python39\\lib\\threading.py\", line 1262, in run\n",
      "    self.function(*self.args, **self.kwargs)\n",
      "  File \"D:\\Users\\W7146644\\AppData\\Local\\Temp\\1/ipykernel_13208/655192257.py\", line 111, in checkSingnal\n",
      "  File \"D:\\Users\\W7146644\\AppData\\Local\\Temp\\1/ipykernel_13208/655192257.py\", line 99, in getHistoricalAPI\n",
      "AttributeError: 'ValueError' object has no attribute 'message'\n"
     ]
    }
   ],
   "source": [
    "threading.Timer(interval, checkSingnal).start()"
   ]
  },
  {
   "cell_type": "code",
   "execution_count": null,
   "id": "7e628069-ae9f-4deb-81f5-bafc42ab6e54",
   "metadata": {},
   "outputs": [],
   "source": []
  }
 ],
 "metadata": {
  "kernelspec": {
   "display_name": "Python 3 (ipykernel)",
   "language": "python",
   "name": "python3"
  },
  "language_info": {
   "codemirror_mode": {
    "name": "ipython",
    "version": 3
   },
   "file_extension": ".py",
   "mimetype": "text/x-python",
   "name": "python",
   "nbconvert_exporter": "python",
   "pygments_lexer": "ipython3",
   "version": "3.9.0"
  }
 },
 "nbformat": 4,
 "nbformat_minor": 5
}
